{
 "cells": [
  {
   "cell_type": "code",
   "execution_count": 18,
   "id": "bbb0aabd",
   "metadata": {},
   "outputs": [
    {
     "data": {
      "text/latex": [
       "$\\displaystyle 511.890373786693$"
      ],
      "text/plain": [
       "511.890373786693"
      ]
     },
     "execution_count": 18,
     "metadata": {},
     "output_type": "execute_result"
    }
   ],
   "source": [
    "from sympy import *\n",
    "import numpy as np\n",
    "x,y,z = symbols(\"x,y,z\")\n",
    "\n",
    "Mse = 1/6*((5*x +7 * y -5*z+47)**2+\\\n",
    "    (-2*y+2*z-10)**2+\\\n",
    "    (-4*x-8*y-7*z-63)**2 +\\\n",
    "    (x+y+2*z+1)**2 +\\\n",
    "    (2*x - y +2*z+4)**2 +\\\n",
    "    (4*x+y+4*z+2)**2\n",
    ")\n",
    "\n",
    "MseX=diff(Mse,x)\n",
    "\n",
    "MseY=diff(Mse,y)\n",
    "\n",
    "\n",
    "MseZ=diff(Mse,z)\n",
    "\n",
    "step =0.01\n",
    "# point = np.array([0,0,0])\n",
    "point = next_point\n",
    "grad = np.array([MseX.subs({x:point[0],y:point[1],z:point[2]}),MseY.subs({x:point[0],y:point[1],z:point[2]}),MseZ.subs({x:point[0],y:point[1],z:point[2]})])\n",
    "\n",
    "next_point = point - step * grad\n",
    "\n",
    "Mse.subs({x:next_point[0],y:next_point[0],z:next_point[0]})\n"
   ]
  },
  {
   "cell_type": "code",
   "execution_count": 20,
   "id": "1fe6a559-10ee-4a41-82b9-ca3cead65f89",
   "metadata": {},
   "outputs": [],
   "source": [
    "step =0.01"
   ]
  },
  {
   "cell_type": "code",
   "execution_count": 43,
   "id": "afdca74c-6bc8-469f-b9d3-6cb13c6d89e6",
   "metadata": {},
   "outputs": [],
   "source": [
    "#point = np.array([0,0,0])\n",
    "point = next_point\n"
   ]
  },
  {
   "cell_type": "code",
   "execution_count": 44,
   "id": "12996445-fbed-49a7-a12f-82d0803b01ab",
   "metadata": {},
   "outputs": [],
   "source": [
    "grad = np.array([MseX.subs({x:point[0],y:point[1],z:point[2]}),MseY.subs({x:point[0],y:point[1],z:point[2]}),MseZ.subs({x:point[0],y:point[1],z:point[2]})])"
   ]
  },
  {
   "cell_type": "code",
   "execution_count": 45,
   "id": "64ca51a4-1bd3-4eaa-974c-c0fdbfd9905f",
   "metadata": {},
   "outputs": [],
   "source": [
    "next_point = point - step * grad"
   ]
  },
  {
   "cell_type": "code",
   "execution_count": 46,
   "id": "9ce7ccc4-a769-4865-9942-31ebe2c290a0",
   "metadata": {},
   "outputs": [
    {
     "data": {
      "text/latex": [
       "$\\displaystyle 247.497333333333$"
      ],
      "text/plain": [
       "247.497333333333"
      ]
     },
     "execution_count": 46,
     "metadata": {},
     "output_type": "execute_result"
    }
   ],
   "source": [
    "Mse.subs({x:next_point[0],y:next_point[1],z:next_point[2]})"
   ]
  },
  {
   "cell_type": "code",
   "execution_count": null,
   "id": "bc4512dc-d55a-4150-b7cd-2a988654e793",
   "metadata": {},
   "outputs": [],
   "source": []
  },
  {
   "cell_type": "code",
   "execution_count": null,
   "id": "232d1eef-1dbb-4a3b-8e62-24f947041283",
   "metadata": {},
   "outputs": [],
   "source": []
  },
  {
   "cell_type": "code",
   "execution_count": null,
   "id": "5717bbc8-7190-475b-bbd2-db5c20371704",
   "metadata": {},
   "outputs": [],
   "source": []
  }
 ],
 "metadata": {
  "kernelspec": {
   "display_name": "Python 3 (ipykernel)",
   "language": "python",
   "name": "python3"
  },
  "language_info": {
   "codemirror_mode": {
    "name": "ipython",
    "version": 3
   },
   "file_extension": ".py",
   "mimetype": "text/x-python",
   "name": "python",
   "nbconvert_exporter": "python",
   "pygments_lexer": "ipython3",
   "version": "3.11.4"
  },
  "vscode": {
   "interpreter": {
    "hash": "fbe58ca63fe33f9eeae9e71d10368d2b4a57f2b1b395836210cc60d362c66949"
   }
  }
 },
 "nbformat": 4,
 "nbformat_minor": 5
}
