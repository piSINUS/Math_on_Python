{
 "cells": [
  {
   "cell_type": "code",
   "execution_count": 17,
   "metadata": {},
   "outputs": [
    {
     "data": {
      "text/latex": [
       "$\\displaystyle \\left[\\begin{matrix}6 & 12\\\\-3 & -6\\\\4 & 5\\end{matrix}\\right]$"
      ],
      "text/plain": [
       "[6   12]\n",
       "[      ]\n",
       "[-3  -6]\n",
       "[      ]\n",
       "[4   5 ]"
      ]
     },
     "execution_count": 17,
     "metadata": {},
     "output_type": "execute_result"
    }
   ],
   "source": [
    "from sympy import *\n",
    "from sympy.plotting import plot\n",
    "from sympy.solvers.inequalities import solve_univariate_inequality\n",
    "from sympy.plotting import plot3d\n",
    "import numpy as np\n",
    "import matplotlib.pyplot as plt\n",
    "import numpy\n",
    "\n",
    "init_printing(use_unicode=False, wrap_line = False, no_global= True)\n",
    "koef1,koef2  = symbols('koef1,koef2')\n",
    "X = Matrix([[4.1, 3.9], [4.7, 4.2]])\n",
    "X_augmented = Matrix([[4.1, 3.9,4.0], [4.7, 4.2,4.3]])\n",
    "Xlinsolve = linsolve(X_augmented, [koef1,koef2])\n",
    "Xtest = Matrix([[-1,4,7],[1,-3,-5],[-1,4,6]])*Matrix([[-2,-6,9],[0,1,2],[5,]])\n",
    "X_augmented\n",
    "Xtest\n"
   ]
  }
 ],
 "metadata": {
  "kernelspec": {
   "display_name": "Python 3.11.4 64-bit",
   "language": "python",
   "name": "python3"
  },
  "language_info": {
   "codemirror_mode": {
    "name": "ipython",
    "version": 3
   },
   "file_extension": ".py",
   "mimetype": "text/x-python",
   "name": "python",
   "nbconvert_exporter": "python",
   "pygments_lexer": "ipython3",
   "version": "3.11.4"
  },
  "vscode": {
   "interpreter": {
    "hash": "fbe58ca63fe33f9eeae9e71d10368d2b4a57f2b1b395836210cc60d362c66949"
   }
  }
 },
 "nbformat": 4,
 "nbformat_minor": 5
}
